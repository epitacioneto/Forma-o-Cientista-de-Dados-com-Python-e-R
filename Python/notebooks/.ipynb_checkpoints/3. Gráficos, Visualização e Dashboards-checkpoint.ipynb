{
 "cells": [
  {
   "cell_type": "markdown",
   "id": "8deddf51",
   "metadata": {},
   "source": [
    "# 3. Gráficos, Visualização e Dashboards"
   ]
  },
  {
   "cell_type": "code",
   "execution_count": 3,
   "id": "8ef55ba4",
   "metadata": {},
   "outputs": [],
   "source": [
    "import pandas as pd\n",
    "import numpy as np\n",
    "import matplotlib.pyplot as plt\n",
    "import seaborn as sns"
   ]
  },
  {
   "cell_type": "markdown",
   "id": "4dc9ab0a",
   "metadata": {},
   "source": [
    "## Histogramas"
   ]
  },
  {
   "cell_type": "code",
   "execution_count": null,
   "id": "3872ada7",
   "metadata": {},
   "outputs": [],
   "source": [
    "base = pd.read_csv('trees.csv')"
   ]
  },
  {
   "cell_type": "code",
   "execution_count": null,
   "id": "3bc9f8fd",
   "metadata": {},
   "outputs": [],
   "source": [
    "base.shape"
   ]
  },
  {
   "cell_type": "code",
   "execution_count": null,
   "id": "b1e5e0ed",
   "metadata": {},
   "outputs": [],
   "source": [
    "base.head()"
   ]
  },
  {
   "cell_type": "code",
   "execution_count": null,
   "id": "88e5b8cf",
   "metadata": {},
   "outputs": [],
   "source": [
    "h = np.histogram(base.iloc[:,1], bins = 6)\n",
    "h"
   ]
  },
  {
   "cell_type": "code",
   "execution_count": null,
   "id": "60083dc2",
   "metadata": {},
   "outputs": [],
   "source": [
    "plt.hist(base.iloc[:,1], bins = 6)\n",
    "plt.title(\"Árvores\")\n",
    "plt.ylabel(\"Frequência\")\n",
    "plt.xlabel(\"Altura\")"
   ]
  },
  {
   "cell_type": "markdown",
   "id": "abb5e4d2",
   "metadata": {},
   "source": [
    "## Gráficos de Densidade"
   ]
  },
  {
   "cell_type": "markdown",
   "id": "4a4b152c",
   "metadata": {},
   "source": [
    "Histograma"
   ]
  },
  {
   "cell_type": "code",
   "execution_count": null,
   "id": "0d5ffa1c",
   "metadata": {},
   "outputs": [],
   "source": [
    "sns.distplot(base.iloc[:,1], hist=True, kde=False,\n",
    "            bins = 6, color=\"blue\",\n",
    "            hist_kws=(\"edgecolor\":\"black\"))"
   ]
  },
  {
   "cell_type": "markdown",
   "id": "ce8e37de",
   "metadata": {},
   "source": [
    "Densidade"
   ]
  },
  {
   "cell_type": "code",
   "execution_count": null,
   "id": "8bf154fb",
   "metadata": {},
   "outputs": [],
   "source": [
    "sns.distplot(base.iloc[:,1], hist=False, kde=True,\n",
    "            bins = 6, color=\"blue\",\n",
    "            hist_kws=(\"edgecolor\":\"black\"))"
   ]
  },
  {
   "cell_type": "markdown",
   "id": "8a431d71",
   "metadata": {},
   "source": [
    "Linha de Densidade sobreposta no Histograma"
   ]
  },
  {
   "cell_type": "code",
   "execution_count": null,
   "id": "37155248",
   "metadata": {},
   "outputs": [],
   "source": [
    "sns.distplot(base.iloc[:,1], hist=True, kde=True,\n",
    "            bins = 6, color=\"blue\",\n",
    "            hist_kws=(\"edgecolor\":\"black\"))"
   ]
  },
  {
   "cell_type": "markdown",
   "id": "0063afc3",
   "metadata": {},
   "source": [
    "## Gráficos de Dispersão"
   ]
  },
  {
   "cell_type": "markdown",
   "id": "50b3b221",
   "metadata": {},
   "source": [
    "Gráfico de dispersão"
   ]
  },
  {
   "cell_type": "code",
   "execution_count": null,
   "id": "74f72fba",
   "metadata": {},
   "outputs": [],
   "source": [
    "plt.scatter(base.Girth, base.Volume, color=\"blue\", facecolors=\"none\", marker='*')\n",
    "plt.title(\"Árvores\")\n",
    "plt.xlabel(\"Volume\")\n",
    "plt.ylabel(\"Circunferência\")"
   ]
  },
  {
   "cell_type": "markdown",
   "id": "52b0913c",
   "metadata": {},
   "source": [
    "Gráfico de linha"
   ]
  },
  {
   "cell_type": "code",
   "execution_count": null,
   "id": "5679e65b",
   "metadata": {},
   "outputs": [],
   "source": [
    "plt.plot(base.Girth, base.Volume)\n",
    "plt.title(\"Árvores\")\n",
    "plt.xlabel(\"Volumes\")\n",
    "plt.ylabel(\"Circunferência\")"
   ]
  },
  {
   "cell_type": "markdown",
   "id": "505b97ad",
   "metadata": {},
   "source": [
    "Gráfico de dispersão com 'afastamento' dos dados (jitter)\n",
    "\n",
    "fit_reg -> linha de tendência"
   ]
  },
  {
   "cell_type": "code",
   "execution_count": null,
   "id": "29f339be",
   "metadata": {},
   "outputs": [],
   "source": [
    "sns.regplot(base.Girth, base.Volume, data=base, x_jitter=0.3, fit_reg=False)"
   ]
  },
  {
   "cell_type": "markdown",
   "id": "230a9131",
   "metadata": {},
   "source": [
    "## Gráfico de Dispersão com Legendas"
   ]
  },
  {
   "cell_type": "code",
   "execution_count": null,
   "id": "a864f85f",
   "metadata": {},
   "outputs": [],
   "source": [
    "base = pd.read_csv('co2.csv')\n",
    "base.head()"
   ]
  },
  {
   "cell_type": "markdown",
   "id": "f2bcd1d9",
   "metadata": {},
   "source": [
    "Criando variáveis para cada atributo (x = conc e y = uptake)"
   ]
  },
  {
   "cell_type": "code",
   "execution_count": null,
   "id": "5369fd50",
   "metadata": {},
   "outputs": [],
   "source": [
    "x = base.conc\n",
    "y = base.uptake"
   ]
  },
  {
   "cell_type": "markdown",
   "id": "216980d8",
   "metadata": {},
   "source": [
    "Retorna os valores únicos do atributo \"treatment\""
   ]
  },
  {
   "cell_type": "code",
   "execution_count": null,
   "id": "cc3d647b",
   "metadata": {},
   "outputs": [],
   "source": [
    "unicos = list(set(base.Treatment))\n",
    "unicos"
   ]
  },
  {
   "cell_type": "markdown",
   "id": "922859a6",
   "metadata": {},
   "source": [
    "Percorre cada tipo de tratamento (chilled e nonchilled) e cria um gráfico de dispersão"
   ]
  },
  {
   "cell_type": "code",
   "execution_count": null,
   "id": "33d015aa",
   "metadata": {},
   "outputs": [],
   "source": [
    "for i in range(len(unicos)):\n",
    "    indice = base.Treatment == unicos[i]\n",
    "    plt.scatter(x[indice], y[indice], lsabel = unicos[i])\n",
    "plt.legend(loc = \"lower right\")"
   ]
  },
  {
   "cell_type": "markdown",
   "id": "2928cf91",
   "metadata": {},
   "source": [
    "## Divisão de Tela"
   ]
  },
  {
   "cell_type": "code",
   "execution_count": null,
   "id": "a29fffc5",
   "metadata": {},
   "outputs": [],
   "source": []
  },
  {
   "cell_type": "markdown",
   "id": "3d1e83fa",
   "metadata": {},
   "source": [
    "## Boxplot"
   ]
  },
  {
   "cell_type": "code",
   "execution_count": null,
   "id": "8df0cb3f",
   "metadata": {},
   "outputs": [],
   "source": []
  },
  {
   "cell_type": "markdown",
   "id": "313d81bc",
   "metadata": {},
   "source": [
    "## Gráficos de Barras e de Setores"
   ]
  },
  {
   "cell_type": "code",
   "execution_count": null,
   "id": "255d9255",
   "metadata": {},
   "outputs": [],
   "source": []
  },
  {
   "cell_type": "markdown",
   "id": "1b8141e6",
   "metadata": {},
   "source": [
    "## Boxplot com Seaborn "
   ]
  },
  {
   "cell_type": "code",
   "execution_count": null,
   "id": "72ab6f71",
   "metadata": {},
   "outputs": [],
   "source": []
  },
  {
   "cell_type": "markdown",
   "id": "7c151d74",
   "metadata": {},
   "source": [
    "## Histogramas e Densidade com Seaborn"
   ]
  },
  {
   "cell_type": "code",
   "execution_count": null,
   "id": "a01e0a75",
   "metadata": {},
   "outputs": [],
   "source": []
  },
  {
   "cell_type": "markdown",
   "id": "299c032f",
   "metadata": {},
   "source": [
    "## Gráfico de Dispersão com Seaborn"
   ]
  },
  {
   "cell_type": "code",
   "execution_count": null,
   "id": "f9bdfeaf",
   "metadata": {},
   "outputs": [],
   "source": []
  },
  {
   "cell_type": "markdown",
   "id": "1093599f",
   "metadata": {},
   "source": [
    "## Gráficos 3D"
   ]
  },
  {
   "cell_type": "code",
   "execution_count": null,
   "id": "2b906a32",
   "metadata": {},
   "outputs": [],
   "source": []
  }
 ],
 "metadata": {
  "kernelspec": {
   "display_name": "Python 3 (ipykernel)",
   "language": "python",
   "name": "python3"
  },
  "language_info": {
   "codemirror_mode": {
    "name": "ipython",
    "version": 3
   },
   "file_extension": ".py",
   "mimetype": "text/x-python",
   "name": "python",
   "nbconvert_exporter": "python",
   "pygments_lexer": "ipython3",
   "version": "3.10.6"
  }
 },
 "nbformat": 4,
 "nbformat_minor": 5
}
